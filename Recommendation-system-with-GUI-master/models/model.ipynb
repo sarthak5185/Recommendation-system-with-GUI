{
 "cells": [
  {
   "cell_type": "code",
   "execution_count": 2,
   "metadata": {},
   "outputs": [
    {
     "name": "stdout",
     "output_type": "stream",
     "text": [
      "                         Title        Year\n",
      "29                     Skyfall  2012-10-25\n",
      "11           Quantum of Solace  2008-10-30\n",
      "1084           The Glimmer Man  1996-10-04\n",
      "1234            The Art of War  2000-08-23\n",
      "2156                Nancy Drew  2007-06-15\n",
      "4638  Amidst the Devil's Wings  2014-12-01\n",
      "62        The Legend of Tarzan  2016-06-29\n",
      "3373  The Other Side of Heaven  2001-04-12\n",
      "4                  John Carter  2012-03-07\n",
      "72               Suicide Squad  2016-08-02\n"
     ]
    }
   ],
   "source": [
    "import flask\n",
    "import difflib\n",
    "import pandas as pd\n",
    "from sklearn.feature_extraction.text import CountVectorizer\n",
    "from sklearn.metrics.pairwise import cosine_similarity\n",
    "\n",
    "app = flask.Flask(__name__, template_folder='templates')\n",
    "\n",
    "df2 = pd.read_csv('tmdb.csv')\n",
    "\n",
    "count = CountVectorizer(stop_words='english')\n",
    "count_matrix = count.fit_transform(df2['soup'])\n",
    "\n",
    "cosine_sim2 = cosine_similarity(count_matrix, count_matrix)\n",
    "\n",
    "df2 = df2.reset_index()\n",
    "indices = pd.Series(df2.index, index=df2['title'])\n",
    "all_titles = [df2['title'][i] for i in range(len(df2['title']))]\n",
    "\n",
    "def get_recommendations(title):\n",
    "    cosine_sim = cosine_similarity(count_matrix, count_matrix)\n",
    "    idx = indices[title]\n",
    "    sim_scores = list(enumerate(cosine_sim[idx]))\n",
    "    sim_scores = sorted(sim_scores, key=lambda x: x[1], reverse=True)\n",
    "    sim_scores = sim_scores[1:11]\n",
    "    movie_indices = [i[0] for i in sim_scores]\n",
    "    tit = df2['title'].iloc[movie_indices]\n",
    "    dat = df2['release_date'].iloc[movie_indices]\n",
    "    return_df = pd.DataFrame(columns=['Title','Year'])\n",
    "    return_df['Title'] = tit\n",
    "    return_df['Year'] = dat\n",
    "    return return_df\n",
    "\n",
    "print(get_recommendations('Spectre'))"
   ]
  }
 ],
 "metadata": {
  "kernelspec": {
   "display_name": "Python 3.9.6 64-bit",
   "language": "python",
   "name": "python3"
  },
  "language_info": {
   "codemirror_mode": {
    "name": "ipython",
    "version": 3
   },
   "file_extension": ".py",
   "mimetype": "text/x-python",
   "name": "python",
   "nbconvert_exporter": "python",
   "pygments_lexer": "ipython3",
   "version": "3.9.6"
  },
  "orig_nbformat": 4,
  "vscode": {
   "interpreter": {
    "hash": "f6246b25e200e4c5124e3e61789ac81350562f0761bbcf92ad9e48654207659c"
   }
  }
 },
 "nbformat": 4,
 "nbformat_minor": 2
}
